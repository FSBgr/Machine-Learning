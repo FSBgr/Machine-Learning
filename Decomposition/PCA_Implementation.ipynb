{
  "nbformat": 4,
  "nbformat_minor": 0,
  "metadata": {
    "colab": {
      "provenance": []
    },
    "kernelspec": {
      "name": "python3",
      "display_name": "Python 3"
    },
    "language_info": {
      "name": "python"
    }
  },
  "cells": [
    {
      "cell_type": "markdown",
      "source": [
        "# Imports"
      ],
      "metadata": {
        "id": "TV-W4hMOpdId"
      }
    },
    {
      "cell_type": "code",
      "execution_count": 1,
      "metadata": {
        "id": "cC_koESFoR1Z"
      },
      "outputs": [],
      "source": [
        "import numpy as np\n",
        "import matplotlib.pyplot as plt\n",
        "from sklearn import datasets"
      ]
    },
    {
      "cell_type": "markdown",
      "source": [
        "# **PCA Class**"
      ],
      "metadata": {
        "id": "4lj0a5L1pala"
      }
    },
    {
      "cell_type": "code",
      "source": [
        "class PCA:\n",
        "\n",
        "  def __init__(self, n_components):\n",
        "    self.n_components = n_components\n",
        "    self.components = None\n",
        "    self.mean = None\n",
        "\n",
        "  def fit(self, X):     # Fitting the model\n",
        "    self.mean = np.mean(X, axis=0) # Finding the mean of the dataset and subtracting it from all elements\n",
        "    X = X - self.mean\n",
        "\n",
        "    cov = np.cov(X.T) # Building the covariance matrix based on the formula Cov(X,X) = (1/n)*sum((X-Xmean)(X-Xmean).T)\n",
        "\n",
        "    eigenvalues, eigenvectors = np.linalg.eig(cov) # Finding the eigenvectors and eigenvalues of the covariance matrix\n",
        "    eigenvectors = eigenvectors.T # linalg.eig returns column vectors but for easier calculations we need row vectors\n",
        "\n",
        "    indices = np.argsort(eigenvalues)[::-1] # Sorting eigenvalues in decreasing order. The eigenvector that corresponds to the largest eigenvalue is the first principal component an so on.\n",
        "    eigenvalues = eigenvalues[indices]\n",
        "    eigenvectors = eigenvectors[indices]\n",
        "\n",
        "    self.components = eigenvectors[0:self.n_components] # Storing only up to n eigenvectors\n",
        "\n",
        "\n",
        "  def transform(self, X): # Transforming the original data into the new k-dimensions\n",
        "    X = X - self.mean\n",
        "    return np.dot(X, self.components.T)\n",
        "\n",
        "\n"
      ],
      "metadata": {
        "id": "pnZzIgAsouZu"
      },
      "execution_count": 2,
      "outputs": []
    },
    {
      "cell_type": "markdown",
      "source": [
        "# **Kernel PCA Class**"
      ],
      "metadata": {
        "id": "rIxvuna1vHr4"
      }
    },
    {
      "cell_type": "code",
      "source": [
        "class KernelPCA:\n",
        "\n",
        "  def __init__(self, n_components, kernel='rbf', gamma=None, degree=3, theta=1):\n",
        "    self.n_components = n_components\n",
        "    self.mean = None\n",
        "    self.kernel = kernel\n",
        "    self.gamma = gamma\n",
        "    self.degree = degree\n",
        "    self.theta = theta\n",
        "\n",
        "    # Calculating the Kernel Matrix of the dataset\n",
        "  def kernel_matrix(self, X1, X2):\n",
        "\n",
        "    if self.gamma is None:      # If no gamma is set by the user\n",
        "        self.gamma = 1.0 / X1.shape[1]\n",
        "    if self.kernel == 'linear':\n",
        "      return np.dot(X1, X2.T)\n",
        "    elif self.kernel == 'rbf':\n",
        "      return np.exp(-self.gamma * np.linalg.norm(X1[:, np.newaxis] - X2, axis=2)**2) # Calculating based on the rbf formula\n",
        "    elif self.kernel == 'poly':\n",
        "      return (np.dot(X1, X2.T) + self.theta)**self.degree\n",
        "    elif self.kernel == 'sigmoid':\n",
        "      return np.tanh(self.gamma * np.dot(X1, X2.T)+ self.theta)\n",
        "    else:\n",
        "      raise Exception(\"Accepted kernels: linear, poly, rbf, sigmoid\")\n",
        "\n",
        "  # Fitting the model\n",
        "  def fit(self, X):\n",
        "\n",
        "    self.X_fit = X\n",
        "    n_samples = X.shape[0]\n",
        "\n",
        "    # Finding the mean of the dataset and subtracting it from all elements / centering the data\n",
        "    self.mean = np.mean(self.X_fit, axis=0)\n",
        "    self.X_centered = X - self.mean\n",
        "\n",
        "    # Building the covariance matrix based on the formula Cov(X,X) = (1/n)*sum((X-Xmean)(X-Xmean).T)\n",
        "    kernel_matrix = self.kernel_matrix(self.X_centered, self.X_centered)\n",
        "\n",
        "    # Centering the kernel matrix using the formula K - I_m.K - K.I_m + I_m.K.I_m\n",
        "    id = np.zeros((n_samples, n_samples))     # Identity matrix\n",
        "    np.fill_diagonal(id, 1)\n",
        "    K_centered = kernel_matrix - np.dot(id, kernel_matrix) - np.dot(kernel_matrix, id) + np.dot(id, np.dot(kernel_matrix, id)) #kernel_matrix - ones.dot(kernel_matrix) - kernel_matrix.dot(ones) + ones.dot(kernel_matrix).dot(ones)\n",
        "\n",
        "    # Finding the eigenvectors and eigenvalues of the covariance matrix\n",
        "    eigenvalues, eigenvectors = np.linalg.eig(K_centered)\n",
        "    eigenvectors = eigenvectors.T # linalg.eig returns column vectors but for easier calculations we need row vectors\n",
        "\n",
        "    # Sorting eigenvalues in decreasing order. The eigenvector that corresponds to the largest eigenvalue is the first principal component an so on.\n",
        "    indices = np.argsort(eigenvalues)[::-1]\n",
        "    eigenvalues = eigenvalues[indices]\n",
        "    eigenvectors = eigenvectors[indices]\n",
        "\n",
        "    self.components = eigenvectors[0:self.n_components] # Storing only up to n eigenvectors\n",
        "\n",
        "  # Projecting the original data into the new k-dimensions\n",
        "  def transform(self, X):\n",
        "    X = self.kernel_matrix(X - np.mean(self.X_fit, axis=0), self.X_centered)\n",
        "    return np.dot(X, self.components.T)\n",
        "\n",
        "\n"
      ],
      "metadata": {
        "id": "9b-azlmevL4C"
      },
      "execution_count": 3,
      "outputs": []
    },
    {
      "cell_type": "markdown",
      "source": [
        "# **PCA experiments on iris dataset**"
      ],
      "metadata": {
        "id": "7oU8ecF6tN3y"
      }
    },
    {
      "cell_type": "code",
      "source": [
        "data = datasets.load_iris()\n",
        "X = data.data\n",
        "y = data.target"
      ],
      "metadata": {
        "id": "qGx3CLpetU1w"
      },
      "execution_count": 4,
      "outputs": []
    },
    {
      "cell_type": "code",
      "source": [
        "pca = PCA(2)\n",
        "pca.fit(X)\n",
        "X_projected = pca.transform(X)"
      ],
      "metadata": {
        "id": "Fw6ilUUa7me3"
      },
      "execution_count": 5,
      "outputs": []
    },
    {
      "cell_type": "code",
      "source": [
        "kpca = KernelPCA(2, 'rbf') # Choose kernels ('linear', 'rbf', 'poly', 'sigmoid')\n",
        "kpca.fit(X)\n",
        "X_projected_kernel = kpca.transform(X)"
      ],
      "metadata": {
        "id": "oGMfun1B7lEw"
      },
      "execution_count": 6,
      "outputs": []
    },
    {
      "cell_type": "markdown",
      "source": [
        "# Visualizing the data"
      ],
      "metadata": {
        "id": "_8NUY7Um331V"
      }
    },
    {
      "cell_type": "markdown",
      "source": [
        "**PCA**"
      ],
      "metadata": {
        "id": "Tc6WR4K14mdn"
      }
    },
    {
      "cell_type": "code",
      "source": [
        "x1 = X_projected[:, 0]\n",
        "x2 = X_projected[:, 1]\n",
        "\n",
        "plt.scatter(x1, x2, c=y, edgecolor='none', alpha=0.8, cmap=plt.cm.get_cmap('viridis', 3))\n",
        "plt.xlabel('Principal Component 1')\n",
        "plt.ylabel('Principal Component 2')\n",
        "plt.colorbar()\n",
        "plt.show()"
      ],
      "metadata": {
        "id": "lSVHAYV84prZ"
      },
      "execution_count": null,
      "outputs": []
    },
    {
      "cell_type": "markdown",
      "source": [
        "**Kernel PCA**"
      ],
      "metadata": {
        "id": "JMDdiDjN4p9p"
      }
    },
    {
      "cell_type": "code",
      "source": [
        "x1 = X_projected_kernel[:, 0]\n",
        "x2 = X_projected_kernel[:, 1]\n",
        "\n",
        "plt.scatter(x1, x2, c=y, edgecolor='none', alpha=0.8, cmap=plt.cm.get_cmap('viridis', 3))\n",
        "plt.xlabel('Principal Component 1')\n",
        "plt.ylabel('Principal Component 2')\n",
        "plt.colorbar()\n",
        "plt.show()"
      ],
      "metadata": {
        "id": "m8BRp5ix33GL"
      },
      "execution_count": null,
      "outputs": []
    }
  ]
}