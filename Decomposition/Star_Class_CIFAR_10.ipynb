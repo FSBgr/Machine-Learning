{
  "nbformat": 4,
  "nbformat_minor": 0,
  "metadata": {
    "colab": {
      "provenance": []
    },
    "kernelspec": {
      "name": "python3",
      "display_name": "Python 3"
    },
    "language_info": {
      "name": "python"
    }
  },
  "cells": [
    {
      "cell_type": "markdown",
      "source": [
        "# **Imports**"
      ],
      "metadata": {
        "id": "Y0sBPFIjHFB_"
      }
    },
    {
      "cell_type": "code",
      "execution_count": 267,
      "metadata": {
        "id": "7zRHb5k1HBF_"
      },
      "outputs": [],
      "source": [
        "import numpy as np\n",
        "import matplotlib.pyplot as plt\n",
        "from sklearn.datasets import load_wine\n",
        "from sklearn.decomposition import KernelPCA\n",
        "from sklearn.discriminant_analysis import LinearDiscriminantAnalysis\n",
        "import pandas as pd\n",
        "from sklearn.preprocessing import StandardScaler\n",
        "from sklearn.model_selection import train_test_split\n",
        "from sklearn.svm import SVC\n",
        "from sklearn.metrics import f1_score\n",
        "from sklearn.datasets import fetch_openml"
      ]
    },
    {
      "cell_type": "markdown",
      "source": [
        "# **Plotter!**"
      ],
      "metadata": {
        "id": "UM0UOx5eEFc2"
      }
    },
    {
      "cell_type": "code",
      "source": [
        "def plotter(X, y):\n",
        "  # Get unique labels and assign colors using a colormap\n",
        "  x1 = X[:, 0]\n",
        "  x2 = X[:, 1]\n",
        "\n",
        "  data = {'x1' : x1, 'x2' : x2, 'Label': y}\n",
        "  dfp = pd.DataFrame(data)\n",
        "\n",
        "  unique_labels = dfp['Label'].unique()\n",
        "  num_labels = len(unique_labels)\n",
        "\n",
        "  # Use a colormap (e.g., 'viridis') to generate a list of colors\n",
        "  color_map = plt.get_cmap('hsv')\n",
        "  label_colors = {label: color_map(i / num_labels) for i, label in enumerate(unique_labels)}\n",
        "\n",
        "  # Create a 3D scatter plot\n",
        "  fig = plt.figure(figsize=(8, 6))\n",
        "\n",
        "  # Scatter plot for each label\n",
        "  for label, color in label_colors.items():\n",
        "      subset = dfp[dfp['Label'] == label]\n",
        "      plt.scatter(subset['x1'], subset['x2'], label=label, color=color, s=10)\n",
        "\n",
        "  plt.xlabel('X1')\n",
        "  plt.ylabel('X2')\n",
        "  plt.legend()\n",
        "  plt.show()"
      ],
      "metadata": {
        "id": "MGPi_urOEE8H"
      },
      "execution_count": 268,
      "outputs": []
    },
    {
      "cell_type": "markdown",
      "source": [
        "# **Kernel PCA class**"
      ],
      "metadata": {
        "id": "1AMJ4n-WHHjk"
      }
    },
    {
      "cell_type": "code",
      "source": [
        "class myKernelPCA:\n",
        "\n",
        "  def __init__(self, n_components, kernel='rbf', gamma=None, degree=3, theta=1):\n",
        "    self.n_components = n_components\n",
        "    self.mean = None\n",
        "    self.kernel = kernel\n",
        "    self.gamma = gamma\n",
        "    self.degree = degree\n",
        "    self.theta = theta\n",
        "\n",
        "    # Calculating the Kernel Matrix of the dataset\n",
        "  def kernel_matrix(self, X1, X2):\n",
        "\n",
        "    if self.gamma is None:      # If no gamma is set by the user\n",
        "        self.gamma = 1.0 / X1.shape[1]\n",
        "    if self.kernel == 'linear':\n",
        "      return np.dot(X1, X2.T)\n",
        "    elif self.kernel == 'rbf':\n",
        "      return np.exp(-self.gamma * np.linalg.norm(X1[:, np.newaxis] - X2, axis=2)**2) # Calculating based on the rbf formula\n",
        "    elif self.kernel == 'poly':\n",
        "      return (np.dot(X1, X2.T) + self.theta)**self.degree\n",
        "    elif self.kernel == 'sigmoid':\n",
        "      return np.tanh(self.gamma * np.dot(X1, X2.T)+ self.theta)\n",
        "    else:\n",
        "      raise Exception(\"Accepted kernels: linear, poly, rbf, sigmoid\")\n",
        "\n",
        "  # Fitting the model\n",
        "  def fit(self, X):\n",
        "\n",
        "    self.X_fit = X\n",
        "    n_samples = X.shape[0]\n",
        "\n",
        "    # Finding the mean of the dataset and subtracting it from all elements / centering the data\n",
        "    self.mean = np.mean(self.X_fit, axis=0)\n",
        "    self.X_centered = X - self.mean\n",
        "\n",
        "    # Building the covariance matrix based on the formula Cov(X,X) = (1/n)*sum((X-Xmean)(X-Xmean).T)\n",
        "    kernel_matrix = self.kernel_matrix(self.X_centered, self.X_centered)\n",
        "\n",
        "    # Centering the kernel matrix using the formula K - I_m.K - K.I_m + I_m.K.I_m\n",
        "    id = np.zeros((n_samples, n_samples))     # Identity matrix\n",
        "    np.fill_diagonal(id, 1)\n",
        "    K_centered = kernel_matrix - np.dot(id, kernel_matrix) - np.dot(kernel_matrix, id) + np.dot(id, np.dot(kernel_matrix, id)) #kernel_matrix - ones.dot(kernel_matrix) - kernel_matrix.dot(ones) + ones.dot(kernel_matrix).dot(ones)\n",
        "\n",
        "    # Finding the eigenvectors and eigenvalues of the covariance matrix\n",
        "    eigenvalues, eigenvectors = np.linalg.eig(K_centered)\n",
        "    eigenvalues = eigenvalues.real\n",
        "    eigenvectors = eigenvectors.real\n",
        "    eigenvectors = eigenvectors.T # linalg.eig returns column vectors but for easier calculations we need row vectors\n",
        "\n",
        "    # Sorting eigenvalues in decreasing order. The eigenvector that corresponds to the largest eigenvalue is the first principal component an so on.\n",
        "    indices = np.argsort(eigenvalues)[::-1]\n",
        "    eigenvalues = eigenvalues[indices]\n",
        "    eigenvectors = eigenvectors[indices]\n",
        "\n",
        "    self.components = eigenvectors[0:self.n_components] # Storing only up to n eigenvectors\n",
        "\n",
        "  # Projecting the original data into the new n-dimensions\n",
        "  def transform(self, X):\n",
        "    X = self.kernel_matrix(X - np.mean(self.X_fit, axis=0), self.X_centered)\n",
        "    return np.dot(X, self.components.T)\n",
        "\n",
        "  def get_components(self):\n",
        "    return self.components"
      ],
      "metadata": {
        "id": "6W5P0cAkHM3u"
      },
      "execution_count": 269,
      "outputs": []
    },
    {
      "cell_type": "markdown",
      "source": [
        "# **LDA Class**"
      ],
      "metadata": {
        "id": "ELkHYQomHNhO"
      }
    },
    {
      "cell_type": "code",
      "source": [
        "class LDA:\n",
        "\n",
        "  def __init__(self, n_components):\n",
        "    self.n_components = n_components\n",
        "    self.linear_discriminants = None # Saving eigenvectors here\n",
        "\n",
        "  def fit(self, X, y):\n",
        "    n_features = X.shape[1]\n",
        "    class_labels = np.unique(y)\n",
        "\n",
        "    # Calculating within class and between class scatter matrices\n",
        "    mean = np.mean(X, axis=0)\n",
        "    S_W = np.zeros((n_features, n_features))\n",
        "    S_B = np.zeros((n_features, n_features))\n",
        "    for c in class_labels:\n",
        "      X_c = X[y == c]\n",
        "      mean_c = np.mean(X_c, axis=0) # S_W is sum(x-xc)*(x-xc).T\n",
        "      S_W += (X_c - mean_c).T.dot(X_c - mean_c)\n",
        "      n_c = X_c.shape[0]\n",
        "      mean_diff = (mean_c - mean).reshape(n_features, 1) # S_B is sum(number_of_samples *(mean_of_class - mean)*(mean_of_class - mean).T)\n",
        "      S_B += n_c * (mean_diff).dot(mean_diff.T)\n",
        "\n",
        "    disc = np.linalg.inv(S_W).dot(S_B) # Applying the LDA formula of S_W^(-1) * S_B\n",
        "\n",
        "    # Calculating eigenvalues and eigenvectors for disc matrix\n",
        "    eigenvalues, eigenvectors = np.linalg.eig(disc)\n",
        "    eigenvalues = eigenvalues.real\n",
        "    eigenvectors = eigenvectors.real\n",
        "    eigenvectors = eigenvectors.T\n",
        "    indexes = np.argsort(abs(eigenvalues))[::-1] # Sorting by decreasing order\n",
        "    eigenvalues = eigenvalues[indexes]\n",
        "    eigenvectors = eigenvectors[indexes]\n",
        "    self.linear_discriminants = eigenvectors[0:self.n_components]\n",
        "\n",
        "\n",
        "  def transform(self, X):\n",
        "    # Projecting data onto the new components\n",
        "    return np.dot(X, self.linear_discriminants.T)\n",
        "\n",
        "  def get_discriminants(self):\n",
        "    return self.linear_discriminants"
      ],
      "metadata": {
        "id": "hJ1j1MvOHPZ0"
      },
      "execution_count": 270,
      "outputs": []
    },
    {
      "cell_type": "markdown",
      "source": [
        "# **Star Type Classification**"
      ],
      "metadata": {
        "id": "LcdHu4B8HWRW"
      }
    },
    {
      "cell_type": "markdown",
      "source": [
        "**Pre-processing**"
      ],
      "metadata": {
        "id": "uDr9cAJgHZdW"
      }
    },
    {
      "cell_type": "code",
      "source": [
        "random_state = 1000\n",
        "df = pd.read_csv(\"Stars.csv\")"
      ],
      "metadata": {
        "id": "Vtn9wzg0HcYk"
      },
      "execution_count": 271,
      "outputs": []
    },
    {
      "cell_type": "code",
      "source": [
        "df = df.dropna()"
      ],
      "metadata": {
        "id": "k0JWgtl5HeSg"
      },
      "execution_count": 272,
      "outputs": []
    },
    {
      "cell_type": "code",
      "source": [
        "y = df['Type']\n",
        "X = df.drop('Type', axis=1)"
      ],
      "metadata": {
        "id": "0wuoxnIrHlvs"
      },
      "execution_count": 273,
      "outputs": []
    },
    {
      "cell_type": "code",
      "source": [
        "# Turning colors and spectral class columns into unique int values\n",
        "unique_values = X['Color'].unique()\n",
        "mapping = {value: index + 1 for index, value in enumerate(unique_values)}\n",
        "X['Color'] = X['Color'].map(mapping)\n",
        "unique_values = X['Spectral_Class'].unique()\n",
        "mapping = {value: index + 1 for index, value in enumerate(unique_values)}\n",
        "X['Spectral_Class'] = X['Spectral_Class'].map(mapping)"
      ],
      "metadata": {
        "id": "RZJbuGWnH8tm"
      },
      "execution_count": 274,
      "outputs": []
    },
    {
      "cell_type": "code",
      "source": [
        "scale = StandardScaler()\n",
        "X_sc = scale.fit_transform(X)"
      ],
      "metadata": {
        "id": "UIsXCZq2JVIU"
      },
      "execution_count": 275,
      "outputs": []
    },
    {
      "cell_type": "code",
      "source": [
        "X_train, X_test, y_train, y_test = train_test_split(X_sc, y, test_size=0.4, random_state=random_state)"
      ],
      "metadata": {
        "id": "GuohSCy-JcV4"
      },
      "execution_count": 276,
      "outputs": []
    },
    {
      "cell_type": "markdown",
      "source": [
        "**Training model on all dimensions**"
      ],
      "metadata": {
        "id": "_db-4JeEJ-7Y"
      }
    },
    {
      "cell_type": "code",
      "source": [
        "svm = SVC()\n",
        "svm.fit(X_train, y_train)\n",
        "y_pred = svm.predict(X_test)"
      ],
      "metadata": {
        "id": "Z9EdBmT9JgXv"
      },
      "execution_count": 277,
      "outputs": []
    },
    {
      "cell_type": "code",
      "source": [
        "print(svm.score(X_train, y_train), svm.score(X_test, y_test), f1_score(y_test, y_pred, average='weighted'), svm.support_vectors_.shape)"
      ],
      "metadata": {
        "colab": {
          "base_uri": "https://localhost:8080/"
        },
        "id": "Q4fYpLVDJsH9",
        "outputId": "f87d27bc-4bc1-44d5-abf8-11031d72158c"
      },
      "execution_count": 278,
      "outputs": [
        {
          "output_type": "stream",
          "name": "stdout",
          "text": [
            "0.9861111111111112 0.9583333333333334 0.9583200297999149 (96, 6)\n"
          ]
        }
      ]
    },
    {
      "cell_type": "markdown",
      "source": [
        "**Training model after KPCA + LDA is applied**"
      ],
      "metadata": {
        "id": "SRU1sW8vKCTZ"
      }
    },
    {
      "cell_type": "code",
      "source": [
        "kpca = myKernelPCA(4, kernel='sigmoid', degree=3)\n",
        "kpca.fit(X_sc)\n",
        "X_sc_proj = kpca.transform(X_sc)"
      ],
      "metadata": {
        "id": "WK3uWbzxKF0f"
      },
      "execution_count": 279,
      "outputs": []
    },
    {
      "cell_type": "code",
      "source": [
        "lda = LDA(n_components=2)\n",
        "lda.fit(X_sc_proj, y)\n",
        "X_final = lda.transform(X_sc_proj)"
      ],
      "metadata": {
        "id": "rx-mwFl8KTgK"
      },
      "execution_count": 280,
      "outputs": []
    },
    {
      "cell_type": "code",
      "source": [
        "X_train, X_test, y_train, y_test = train_test_split(X_final, y, test_size=0.4, random_state=random_state)"
      ],
      "metadata": {
        "id": "DvUejqtYKhMD"
      },
      "execution_count": 281,
      "outputs": []
    },
    {
      "cell_type": "code",
      "source": [
        "svm.fit(X_train, y_train)\n",
        "y_pred = svm.predict(X_test)"
      ],
      "metadata": {
        "id": "t-znorCZKk3d"
      },
      "execution_count": 282,
      "outputs": []
    },
    {
      "cell_type": "code",
      "source": [
        "print(svm.score(X_train, y_train), svm.score(X_test, y_test), f1_score(y_test, y_pred, average='weighted'), svm.support_vectors_.shape)"
      ],
      "metadata": {
        "colab": {
          "base_uri": "https://localhost:8080/"
        },
        "id": "wjfyI0NoKtDX",
        "outputId": "57a1c133-88d4-4735-d743-406fcd50ddb2"
      },
      "execution_count": 283,
      "outputs": [
        {
          "output_type": "stream",
          "name": "stdout",
          "text": [
            "0.9375 0.90625 0.9011642476875853 (129, 2)\n"
          ]
        }
      ]
    },
    {
      "cell_type": "markdown",
      "source": [
        "**Visualizing data**"
      ],
      "metadata": {
        "id": "eejnvJMWK96j"
      }
    },
    {
      "cell_type": "code",
      "source": [
        "plotter(X_final, y)"
      ],
      "metadata": {
        "colab": {
          "base_uri": "https://localhost:8080/",
          "height": 542
        },
        "id": "f_adaJ43REM3",
        "outputId": "012044b8-329d-42a3-e6ac-41e99570fe8e"
      },
      "execution_count": 284,
      "outputs": [
        {
          "output_type": "display_data",
          "data": {
            "text/plain": [
              "<Figure size 800x600 with 1 Axes>"
            ],
            "image/png": "[encoded data removed]"
          },
          "metadata": {}
        }
      ]
    },
    {
      "cell_type": "markdown",
      "source": [
        "# **Testing with sklearn**"
      ],
      "metadata": {
        "id": "cCYU5Kwh1Qoo"
      }
    },
    {
      "cell_type": "code",
      "source": [
        "skpca = KernelPCA(n_components=4, kernel='linear')\n",
        "X_proj_sk = skpca.fit_transform(X_sc)\n",
        "sklda = LinearDiscriminantAnalysis(n_components=2)\n",
        "sklda.fit(X_proj_sk, y)\n",
        "X_final_sk = sklda.transform(X_proj_sk)"
      ],
      "metadata": {
        "id": "spYEmbJ61QGl"
      },
      "execution_count": 285,
      "outputs": []
    },
    {
      "cell_type": "code",
      "source": [
        "X_train, X_test, y_train, y_test = train_test_split(X_final_sk, y, test_size=0.4, random_state=random_state)"
      ],
      "metadata": {
        "id": "8HNJkPlU1-wU"
      },
      "execution_count": 286,
      "outputs": []
    },
    {
      "cell_type": "code",
      "source": [
        "svm.fit(X_train, y_train)\n",
        "y_pred_sk = svm.predict(X_test)\n",
        "print(svm.score(X_train, y_train), svm.score(X_test, y_test), f1_score(y_test, y_pred_sk, average='weighted'))"
      ],
      "metadata": {
        "colab": {
          "base_uri": "https://localhost:8080/"
        },
        "id": "wBWONnYb2FAi",
        "outputId": "3c6c00a3-df4d-4ff0-a9d4-450e34f66c45"
      },
      "execution_count": 287,
      "outputs": [
        {
          "output_type": "stream",
          "name": "stdout",
          "text": [
            "0.9513888888888888 0.9270833333333334 0.9267342976617169\n"
          ]
        }
      ]
    },
    {
      "cell_type": "code",
      "source": [
        "plotter(X_final_sk, y)"
      ],
      "metadata": {
        "colab": {
          "base_uri": "https://localhost:8080/",
          "height": 547
        },
        "id": "KVcRoA5a3cK8",
        "outputId": "db7664b6-cd67-4b40-93c3-b7a1a40046f5"
      },
      "execution_count": 288,
      "outputs": [
        {
          "output_type": "display_data",
          "data": {
            "text/plain": [
              "<Figure size 800x600 with 1 Axes>"
            ],
            "image/png": "[encoded data removed]"
          },
          "metadata": {}
        }
      ]
    },
    {
      "cell_type": "markdown",
      "source": [
        "# **Cifar-10**"
      ],
      "metadata": {
        "id": "GGyILGLsIdVH"
      }
    },
    {
      "cell_type": "code",
      "source": [
        "cifar_10 = fetch_openml('CIFAR_10_small', cache=True)"
      ],
      "metadata": {
        "id": "vNX3mqT0KNdS"
      },
      "execution_count": null,
      "outputs": []
    },
    {
      "cell_type": "code",
      "source": [
        "# Extract features (X) and labels (y)\n",
        "X = pd.DataFrame(cifar_10.data.astype('float32'))\n",
        "y = pd.DataFrame(cifar_10.target.astype('int'))\n",
        "\n",
        "# Reduce the dataset size for demonstration purposes\n",
        "subset_size = 2000\n",
        "X_subset = X[:subset_size]\n",
        "y_subset = y[:subset_size]"
      ],
      "metadata": {
        "id": "v87QWyzlLfmS"
      },
      "execution_count": 290,
      "outputs": []
    },
    {
      "cell_type": "code",
      "source": [
        "X_train, X_test, y_train, y_test = train_test_split(X_subset, y_subset, test_size=0.4, random_state=random_state)"
      ],
      "metadata": {
        "id": "E8hhR-BfLlnj"
      },
      "execution_count": 291,
      "outputs": []
    },
    {
      "cell_type": "code",
      "source": [
        "svm.fit(X_train, y_train)\n",
        "y_pred = svm.predict(X_test)"
      ],
      "metadata": {
        "id": "Bls9lX5xL0ae"
      },
      "execution_count": null,
      "outputs": []
    },
    {
      "cell_type": "code",
      "source": [
        "print(svm.score(X_train, y_train), svm.score(X_test, y_test), f1_score(y_test, y_pred, average='weighted'), svm.support_vectors_.shape)"
      ],
      "metadata": {
        "colab": {
          "base_uri": "https://localhost:8080/"
        },
        "id": "nz8jIKePL8jG",
        "outputId": "277cdfe2-efa7-462d-f366-58438cd7cffa"
      },
      "execution_count": 293,
      "outputs": [
        {
          "output_type": "stream",
          "name": "stdout",
          "text": [
            "0.7708333333333334 0.38625 0.38125645689839405 (1184, 3072)\n"
          ]
        }
      ]
    },
    {
      "cell_type": "markdown",
      "source": [
        "**KPCA + LDA**"
      ],
      "metadata": {
        "id": "onpWjobiMSWq"
      }
    },
    {
      "cell_type": "code",
      "source": [
        "kpca = KernelPCA(n_components = 1950, kernel = \"cosine\")\n",
        "X_proj = kpca.fit_transform(X_subset)"
      ],
      "metadata": {
        "id": "CLLMzZeRNmtl"
      },
      "execution_count": 294,
      "outputs": []
    },
    {
      "cell_type": "code",
      "source": [
        "lda = LinearDiscriminantAnalysis(n_components=2)\n",
        "X_final = lda.fit_transform(X_proj, y_subset)"
      ],
      "metadata": {
        "id": "4lzQz6zWCDGJ"
      },
      "execution_count": null,
      "outputs": []
    },
    {
      "cell_type": "markdown",
      "source": [
        "**Re-training after Kernel PCA + LDA**"
      ],
      "metadata": {
        "id": "5Ok8FXOmSnet"
      }
    },
    {
      "cell_type": "code",
      "source": [
        "X_train, X_test, y_train, y_test = train_test_split(X_final, y_subset, test_size=0.4, random_state=random_state)"
      ],
      "metadata": {
        "id": "u-Z1cHf6SqF6"
      },
      "execution_count": 296,
      "outputs": []
    },
    {
      "cell_type": "code",
      "source": [
        "svm.fit(X_train, y_train)\n",
        "y_pred = svm.predict(X_test)"
      ],
      "metadata": {
        "id": "vE_kf1AYS7Zb"
      },
      "execution_count": null,
      "outputs": []
    },
    {
      "cell_type": "code",
      "source": [
        "print(svm.score(X_train, y_train), svm.score(X_test, y_test), f1_score(y_test, y_pred, average='weighted'), svm.support_vectors_.shape)"
      ],
      "metadata": {
        "colab": {
          "base_uri": "https://localhost:8080/"
        },
        "id": "nmjB7MMZTG4M",
        "outputId": "e2962525-0c07-4c7f-801d-c460133b0f5a"
      },
      "execution_count": 298,
      "outputs": [
        {
          "output_type": "stream",
          "name": "stdout",
          "text": [
            "0.9716666666666667 0.96875 0.9684352732751361 (359, 2)\n"
          ]
        }
      ]
    },
    {
      "cell_type": "code",
      "source": [
        "labels = y_subset.to_numpy()\n",
        "plt.figure(figsize=(8, 8))\n",
        "scatter = plt.scatter(X_final[:, 0], X_final[:, 1], c=labels, cmap='tab10', marker='o', s=1)\n",
        "plt.colorbar(scatter)\n",
        "plt.xlabel('Dimension 1')\n",
        "plt.ylabel('Dimension 2')\n",
        "plt.title('2D Scatter Plot of CIFAR-10 with Labels')\n",
        "plt.show()"
      ],
      "metadata": {
        "colab": {
          "base_uri": "https://localhost:8080/",
          "height": 718
        },
        "id": "GG3fHUp9RHfZ",
        "outputId": "20917575-2f62-4ed7-9120-1075efeb8963"
      },
      "execution_count": 300,
      "outputs": [
        {
          "output_type": "display_data",
          "data": {
            "text/plain": [
              "<Figure size 800x800 with 2 Axes>"
            ],
            "image/png": "[encoded data removed]"
          },
          "metadata": {}
        }
      ]
    }
  ]
}