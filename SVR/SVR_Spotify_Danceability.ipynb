{
  "cells": [
    {
      "cell_type": "markdown",
      "source": [
        "# **Imports**"
      ],
      "metadata": {
        "id": "9q0SDr_dQwQg"
      }
    },
    {
      "cell_type": "code",
      "execution_count": 1,
      "metadata": {
        "id": "H5NYbKiz1IbT"
      },
      "outputs": [],
      "source": [
        "import numpy as np\n",
        "import pandas as pd\n",
        "import matplotlib.pyplot as plt\n",
        "import seaborn as sns\n",
        "import warnings\n",
        "warnings.filterwarnings('ignore')\n",
        "from sklearn.preprocessing import StandardScaler\n",
        "from sklearn.model_selection import train_test_split\n",
        "from sklearn.svm import SVR\n",
        "from sklearn.model_selection import GridSearchCV\n",
        "import matplotlib.pyplot as plt\n",
        "from sklearn.neighbors import KNeighborsRegressor\n",
        "import joblib"
      ]
    },
    {
      "cell_type": "code",
      "execution_count": 21,
      "metadata": {
        "id": "VXwIdHrW1LAc"
      },
      "outputs": [],
      "source": [
        "random_state = 1000\n",
        "df = pd.read_csv(\"SpotifyDataLarge.csv\")\n",
        "data_size = 10000 # Change this to adjust the dataset partition size"
      ]
    },
    {
      "cell_type": "markdown",
      "metadata": {
        "id": "vR6Gu__K2iPB"
      },
      "source": [
        "# **Preprocessing**"
      ]
    },
    {
      "cell_type": "code",
      "source": [
        "df.isna().sum()  # Checking for null values\n",
        "df = df.dropna()"
      ],
      "metadata": {
        "id": "nh7XZRehFtlk"
      },
      "execution_count": 22,
      "outputs": []
    },
    {
      "cell_type": "code",
      "source": [
        "#df.info() # Checking value types. Everything is int or float."
      ],
      "metadata": {
        "id": "sioGaZfFFuI0"
      },
      "execution_count": null,
      "outputs": []
    },
    {
      "cell_type": "code",
      "execution_count": 23,
      "metadata": {
        "id": "if0dcsJu1lEb"
      },
      "outputs": [],
      "source": [
        "df.drop('isrc', axis=1, inplace=True)\n",
        "df.drop('updated_on', axis=1, inplace=True)"
      ]
    },
    {
      "cell_type": "markdown",
      "metadata": {
        "id": "Z5dR3IoujCA3"
      },
      "source": [
        "**Plotting the correlation map**"
      ]
    },
    {
      "cell_type": "code",
      "execution_count": null,
      "metadata": {
        "id": "fL7QxZwXjBGF"
      },
      "outputs": [],
      "source": [
        "plt.figure(figsize=(16, 8))\n",
        "sns.set(style=\"whitegrid\")\n",
        "corr = df.corr()\n",
        "sns.heatmap(corr,annot=True, cmap=\"YlGnBu\")"
      ]
    },
    {
      "cell_type": "markdown",
      "metadata": {
        "id": "56LRz2mn2o-7"
      },
      "source": [
        "**Creating and scaling datasets**"
      ]
    },
    {
      "cell_type": "code",
      "execution_count": 24,
      "metadata": {
        "id": "MMTrFhpwlA5O"
      },
      "outputs": [],
      "source": [
        "scale = StandardScaler()\n",
        "df_sc = scale.fit_transform(df)\n",
        "df_sc = pd.DataFrame(df_sc, columns=df.columns)"
      ]
    },
    {
      "cell_type": "code",
      "execution_count": 6,
      "metadata": {
        "id": "8MiYaSnm2mB9"
      },
      "outputs": [],
      "source": [
        "y = df_sc['danceability'] # The aim is to predict the danceability of a song.\n",
        "X = df_sc.drop('danceability', axis=1)\n",
        "X_train, X_test, y_train, y_test = train_test_split(X[:data_size], y[:data_size], test_size=0.4, random_state=random_state) # Splitting as 60% train test, 40% test set."
      ]
    },
    {
      "cell_type": "markdown",
      "metadata": {
        "id": "3nhEsHAN2uIV"
      },
      "source": [
        "# **Regression with SVR**"
      ]
    },
    {
      "cell_type": "code",
      "execution_count": null,
      "metadata": {
        "id": "au6NmVpK2wfr"
      },
      "outputs": [],
      "source": [
        "SVM_regression = SVR(C=10, kernel='linear')\n",
        "SVM_regression.fit(X_train, y_train) # training the model."
      ]
    },
    {
      "cell_type": "code",
      "execution_count": null,
      "metadata": {
        "id": "a-bS7BY922sl"
      },
      "outputs": [],
      "source": [
        "y_pred = SVM_regression.predict(X_test) # Predicting values"
      ]
    },
    {
      "cell_type": "code",
      "execution_count": null,
      "metadata": {
        "id": "okIi_Mud23Kp"
      },
      "outputs": [],
      "source": [
        "predictions = pd.DataFrame({'y_test':y_test, 'y_pred':y_pred}) # Creating a dataframe with real values and predictions side by side\n",
        "# predictions.head()"
      ]
    },
    {
      "cell_type": "markdown",
      "metadata": {
        "id": "lA6Rh291243Y"
      },
      "source": [
        "**Evaluating the model**"
      ]
    },
    {
      "cell_type": "code",
      "execution_count": null,
      "metadata": {
        "id": "4_pvvWin26-V"
      },
      "outputs": [],
      "source": [
        "MSE_test = round(np.mean(np.square(y_test- y_pred)),2)\n",
        "RMSE_test = round(np.sqrt(MSE_test),2)\n",
        "print(RMSE_test, SVM_regression.score(X_test, y_test))"
      ]
    },
    {
      "cell_type": "markdown",
      "metadata": {
        "id": "CnTXtK0q4zt4"
      },
      "source": [
        "Results were: 1000 samples: 0.66\n",
        "17k 0.64\n",
        "Therefore with the increasing amount of samples, the mean squared error is decreasing"
      ]
    },
    {
      "cell_type": "markdown",
      "metadata": {
        "id": "wBQ7yPoJ4Jcu"
      },
      "source": [
        "# **Finding optimal model with Grid Search**"
      ]
    },
    {
      "cell_type": "code",
      "execution_count": null,
      "metadata": {
        "id": "QMlPaZhny53x"
      },
      "outputs": [],
      "source": [
        "param_grid = {'C': [1,10,100], 'gamma': [1,0.1,0.01], 'kernel': ['rbf', 'poly', 'sigmoid', 'linear'], 'degree' : [3,5,9]}"
      ]
    },
    {
      "cell_type": "code",
      "execution_count": null,
      "metadata": {
        "id": "H0IqF8M2zaEg"
      },
      "outputs": [],
      "source": [
        "grid = GridSearchCV(estimator=SVR(),param_grid= param_grid, refit = True, verbose=3, cv=2)"
      ]
    },
    {
      "cell_type": "code",
      "execution_count": null,
      "metadata": {
        "id": "FhPwIdb6zenr"
      },
      "outputs": [],
      "source": [
        "grid.fit(X_train,y_train)"
      ]
    },
    {
      "cell_type": "code",
      "execution_count": null,
      "metadata": {
        "colab": {
          "base_uri": "https://localhost:8080/"
        },
        "id": "sErb6nFYzkJ5",
        "outputId": "b5bdc0fa-0891-459f-acdf-fd5b221ba911"
      },
      "outputs": [
        {
          "output_type": "execute_result",
          "data": {
            "text/plain": [
              "{'C': 1, 'degree': 3, 'gamma': 0.1, 'kernel': 'rbf'}"
            ]
          },
          "metadata": {},
          "execution_count": 14
        }
      ],
      "source": [
        "grid.best_params_"
      ]
    },
    {
      "cell_type": "code",
      "source": [
        "grid.best_estimator_.score(X_train, y_train)"
      ],
      "metadata": {
        "id": "EWkWMEtTumGN"
      },
      "execution_count": null,
      "outputs": []
    },
    {
      "cell_type": "code",
      "execution_count": null,
      "metadata": {
        "id": "gmyu2mNEzogP"
      },
      "outputs": [],
      "source": [
        "y_pred_best = grid.predict(X_test)"
      ]
    },
    {
      "cell_type": "code",
      "execution_count": null,
      "metadata": {
        "id": "OuHI5od3zszR"
      },
      "outputs": [],
      "source": [
        "predictions['y_pred_best'] = y_pred_best # Adding best predictions to the dataframe of previous predictions\n",
        "predictions.head()"
      ]
    },
    {
      "cell_type": "markdown",
      "source": [
        "# **Optimal Model**"
      ],
      "metadata": {
        "id": "2DIWYTuazvTH"
      }
    },
    {
      "cell_type": "code",
      "source": [
        "optimal = SVR(C=1, gamma = 0.1, kernel = 'rbf')"
      ],
      "metadata": {
        "id": "9EQ-db-izu7h"
      },
      "execution_count": 7,
      "outputs": []
    },
    {
      "cell_type": "code",
      "source": [
        "optimal.fit(X_train, y_train)"
      ],
      "metadata": {
        "id": "U7aDUiIPz5uu"
      },
      "execution_count": null,
      "outputs": []
    },
    {
      "cell_type": "code",
      "source": [
        "y_optimal = optimal.predict(X_test)"
      ],
      "metadata": {
        "id": "-Bql1yN10EQs"
      },
      "execution_count": 9,
      "outputs": []
    },
    {
      "cell_type": "code",
      "source": [
        "MSE_opt = round(np.mean(np.square(y_test - y_optimal)),4)\n",
        "print(MSE_opt, optimal.score(X_test, y_test))"
      ],
      "metadata": {
        "id": "x4ol1uOI0JZk",
        "colab": {
          "base_uri": "https://localhost:8080/"
        },
        "outputId": "20d7b266-e6f1-46bb-c254-541971270149"
      },
      "execution_count": 10,
      "outputs": [
        {
          "output_type": "stream",
          "name": "stdout",
          "text": [
            "0.4488 0.47600628858836336\n"
          ]
        }
      ]
    },
    {
      "cell_type": "markdown",
      "source": [
        "# **Dimensionality Reduction via Feature Selection**\n"
      ],
      "metadata": {
        "id": "AC30sqAq6rU3"
      }
    },
    {
      "cell_type": "code",
      "source": [
        "y_pruned = df_sc['danceability']\n",
        "#df_sc_pruned = df_sc.drop('danceability', axis=1)\n",
        "#df_sc_pruned  = df_sc_pruned .drop('tempo', axis=1)\n",
        "#df_sc_pruned  = df_sc_pruned .drop('key', axis=1)\n",
        "X_pruned = df_sc.drop(['mode', 'key', 'tempo'], axis=1)\n",
        "X_train, X_test, y_train, y_test = train_test_split(X_pruned[:data_size], y_pruned[:data_size], test_size=0.4, random_state=random_state) # Splitting as 60% train test, 40% test set."
      ],
      "metadata": {
        "id": "X5m7t7L97KwG"
      },
      "execution_count": 26,
      "outputs": []
    },
    {
      "cell_type": "code",
      "source": [
        "optimal.fit(X_train, y_train)"
      ],
      "metadata": {
        "id": "GKc0nAfC7q_n"
      },
      "execution_count": null,
      "outputs": []
    },
    {
      "cell_type": "code",
      "source": [
        "y_optimal = optimal.predict(X_test)"
      ],
      "metadata": {
        "id": "KpDb3vVQ7xqc"
      },
      "execution_count": 28,
      "outputs": []
    },
    {
      "cell_type": "code",
      "source": [
        "MSE_opt = round(np.mean(np.square(y_test - y_optimal)),4)\n",
        "MSE_opt"
      ],
      "metadata": {
        "id": "SNKsJ3Xq7yat",
        "colab": {
          "base_uri": "https://localhost:8080/"
        },
        "outputId": "971f6ca3-1165-40b3-ca66-6b5c3cf43436"
      },
      "execution_count": 29,
      "outputs": [
        {
          "output_type": "execute_result",
          "data": {
            "text/plain": [
              "0.0111"
            ]
          },
          "metadata": {},
          "execution_count": 29
        }
      ]
    },
    {
      "cell_type": "code",
      "source": [
        "optimal.score(X_test, y_test)"
      ],
      "metadata": {
        "id": "C9w21I1KCNCi",
        "colab": {
          "base_uri": "https://localhost:8080/"
        },
        "outputId": "9a41450d-01cc-4737-e529-95c2ec4c1423"
      },
      "execution_count": 30,
      "outputs": [
        {
          "output_type": "execute_result",
          "data": {
            "text/plain": [
              "0.9840698942284901"
            ]
          },
          "metadata": {},
          "execution_count": 30
        }
      ]
    },
    {
      "cell_type": "code",
      "source": [
        "predictions = pd.DataFrame({'y_test':y_test, 'y_pred':y_optimal})"
      ],
      "metadata": {
        "id": "RJzk20E3rMbX"
      },
      "execution_count": 31,
      "outputs": []
    },
    {
      "cell_type": "code",
      "source": [
        "predictions.head()"
      ],
      "metadata": {
        "id": "CLx21ym1rUOv"
      },
      "execution_count": null,
      "outputs": []
    },
    {
      "cell_type": "markdown",
      "source": [
        "**Saving the optimal model**"
      ],
      "metadata": {
        "id": "RCb_AAIj354j"
      }
    },
    {
      "cell_type": "code",
      "source": [
        "joblib.dump(optimal, 'SpotifySVR.joblib') # To load the trained model simply use joblib.load('SpotiftSVR.joblib')"
      ],
      "metadata": {
        "id": "W6n7i1iI385B"
      },
      "execution_count": null,
      "outputs": []
    },
    {
      "cell_type": "markdown",
      "source": [
        "# Plotting learning curve"
      ],
      "metadata": {
        "id": "D9lh7ANWXZBF"
      }
    },
    {
      "cell_type": "code",
      "source": [
        "import numpy as np\n",
        "import matplotlib.pyplot as plt\n",
        "from sklearn.model_selection import learning_curve\n",
        "\n",
        "def plot_learning_curve(estimator, X, y, ylim, cv, n_jobs):#, train_sizes=np.linspace(.1, 1.0, 5)):\n",
        "    plt.figure()\n",
        "    plt.title(\"Learning Curve\")\n",
        "    if ylim is not None:\n",
        "        plt.ylim(*ylim)\n",
        "    plt.xlabel(\"Training examples\")\n",
        "    plt.ylabel(\"Score\")\n",
        "\n",
        "    train_sizes, train_scores, test_scores = learning_curve(\n",
        "        estimator, X, y, cv=cv, n_jobs=n_jobs)#, train_sizes=train_sizes)\n",
        "\n",
        "    train_scores_mean = np.mean(train_scores, axis=1)\n",
        "    train_scores_std = np.std(train_scores, axis=1)\n",
        "    test_scores_mean = np.mean(test_scores, axis=1)\n",
        "    test_scores_std = np.std(test_scores, axis=1)\n",
        "\n",
        "    plt.grid()\n",
        "\n",
        "    plt.fill_between(train_sizes, train_scores_mean - train_scores_std,\n",
        "                     train_scores_mean + train_scores_std, alpha=0.1,\n",
        "                     color=\"r\")\n",
        "    plt.fill_between(train_sizes, test_scores_mean - test_scores_std,\n",
        "                     test_scores_mean + test_scores_std, alpha=0.1, color=\"g\")\n",
        "    plt.plot(train_sizes, train_scores_mean, 'o-', color=\"r\", label=\"Training score\")\n",
        "    plt.plot(train_sizes, test_scores_mean, 'o-', color=\"g\", label=\"Cross-validation score\")\n",
        "\n",
        "    plt.legend(loc=\"best\")\n",
        "    return plt\n",
        "\n",
        "negative_infinity =  float('-inf')\n",
        "plot_learning_curve(optimal, X_train, y_train, ylim=(0, 1), cv=5, n_jobs=-1)\n",
        "plt.show()"
      ],
      "metadata": {
        "id": "kuR_V53IXfD8"
      },
      "execution_count": null,
      "outputs": []
    },
    {
      "cell_type": "markdown",
      "source": [
        "# **Comparing with KNN-Regressor**"
      ],
      "metadata": {
        "id": "RWJzRE07WHBr"
      }
    },
    {
      "cell_type": "code",
      "source": [
        "KNN = KNeighborsRegressor()"
      ],
      "metadata": {
        "id": "fmLUhneRWJf_"
      },
      "execution_count": null,
      "outputs": []
    },
    {
      "cell_type": "code",
      "source": [
        "KNN.fit(X_train, y_train)"
      ],
      "metadata": {
        "id": "t952-e-hWWpv"
      },
      "execution_count": null,
      "outputs": []
    },
    {
      "cell_type": "code",
      "source": [
        "y_knn = KNN.predict(X_test)"
      ],
      "metadata": {
        "id": "u7jmFWxLWca9"
      },
      "execution_count": null,
      "outputs": []
    },
    {
      "cell_type": "code",
      "source": [
        "MSE_opt = round(np.mean(np.square(y_test - y_knn)),2)\n",
        "RMSE_opt = round(np.sqrt(MSE_opt),2)\n",
        "RMSE_opt"
      ],
      "metadata": {
        "id": "6lHsZBCvWiOh"
      },
      "execution_count": null,
      "outputs": []
    },
    {
      "cell_type": "code",
      "source": [
        "KNN.score(X_test, y_test)"
      ],
      "metadata": {
        "id": "5vZmcUtUWpsh"
      },
      "execution_count": null,
      "outputs": []
    }
  ],
  "metadata": {
    "colab": {
      "provenance": [],
      "collapsed_sections": [
        "9q0SDr_dQwQg",
        "vR6Gu__K2iPB",
        "3nhEsHAN2uIV",
        "wBQ7yPoJ4Jcu",
        "2DIWYTuazvTH",
        "AC30sqAq6rU3",
        "D9lh7ANWXZBF",
        "RWJzRE07WHBr"
      ]
    },
    "kernelspec": {
      "display_name": "Python 3",
      "name": "python3"
    },
    "language_info": {
      "name": "python"
    }
  },
  "nbformat": 4,
  "nbformat_minor": 0
}