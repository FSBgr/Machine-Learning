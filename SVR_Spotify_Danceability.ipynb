{
  "cells": [
    {
      "cell_type": "markdown",
      "source": [
        "# **Imports**"
      ],
      "metadata": {
        "id": "9q0SDr_dQwQg"
      }
    },
    {
      "cell_type": "code",
      "execution_count": null,
      "metadata": {
        "id": "H5NYbKiz1IbT"
      },
      "outputs": [],
      "source": [
        "import numpy as np\n",
        "import pandas as pd\n",
        "import matplotlib.pyplot as plt\n",
        "import seaborn as sns\n",
        "import warnings\n",
        "warnings.filterwarnings('ignore')\n",
        "from sklearn.preprocessing import StandardScaler\n",
        "from sklearn.model_selection import train_test_split\n",
        "from sklearn.svm import SVR\n",
        "from sklearn.model_selection import GridSearchCV\n",
        "import matplotlib.pyplot as plt"
      ]
    },
    {
      "cell_type": "code",
      "execution_count": null,
      "metadata": {
        "id": "VXwIdHrW1LAc"
      },
      "outputs": [],
      "source": [
        "random_state = 1000\n",
        "df = pd.read_csv(\"SpotifyDataLarge.csv\")"
      ]
    },
    {
      "cell_type": "markdown",
      "metadata": {
        "id": "vR6Gu__K2iPB"
      },
      "source": [
        "# **Preprocessing**"
      ]
    },
    {
      "cell_type": "code",
      "source": [
        "df.isna().sum()  # Checking for null values\n",
        "df = df.dropna()"
      ],
      "metadata": {
        "id": "nh7XZRehFtlk"
      },
      "execution_count": null,
      "outputs": []
    },
    {
      "cell_type": "code",
      "source": [
        "#df.info() # Checking value types. Everything is int or float."
      ],
      "metadata": {
        "id": "sioGaZfFFuI0"
      },
      "execution_count": null,
      "outputs": []
    },
    {
      "cell_type": "code",
      "execution_count": null,
      "metadata": {
        "id": "if0dcsJu1lEb"
      },
      "outputs": [],
      "source": [
        "df.drop('isrc', axis=1, inplace=True)\n",
        "df.drop('updated_on', axis=1, inplace=True)"
      ]
    },
    {
      "cell_type": "markdown",
      "metadata": {
        "id": "Z5dR3IoujCA3"
      },
      "source": [
        "**Plotting the correlation map**"
      ]
    },
    {
      "cell_type": "code",
      "execution_count": null,
      "metadata": {
        "id": "fL7QxZwXjBGF"
      },
      "outputs": [],
      "source": [
        "plt.figure(figsize=(16, 8))\n",
        "sns.set(style=\"whitegrid\")\n",
        "corr = df.corr()\n",
        "sns.heatmap(corr,annot=True, cmap=\"YlGnBu\")"
      ]
    },
    {
      "cell_type": "markdown",
      "metadata": {
        "id": "56LRz2mn2o-7"
      },
      "source": [
        "**Creating and scaling datasets**"
      ]
    },
    {
      "cell_type": "code",
      "execution_count": null,
      "metadata": {
        "id": "MMTrFhpwlA5O"
      },
      "outputs": [],
      "source": [
        "scale = StandardScaler()\n",
        "df_sc = scale.fit_transform(df)\n",
        "df_sc = pd.DataFrame(df_sc, columns=df.columns)"
      ]
    },
    {
      "cell_type": "code",
      "execution_count": null,
      "metadata": {
        "id": "8MiYaSnm2mB9"
      },
      "outputs": [],
      "source": [
        "y = df_sc['danceability'] # The aim is to predict the danceability of a song.\n",
        "X = df_sc.drop('danceability', axis=1)\n",
        "X_train, X_test, y_train, y_test = train_test_split(X[:10000], y[:10000], test_size=0.4, random_state=random_state) # Splitting as 60% train test, 40% test set."
      ]
    },
    {
      "cell_type": "markdown",
      "metadata": {
        "id": "3nhEsHAN2uIV"
      },
      "source": [
        "# **Regression with SVR**"
      ]
    },
    {
      "cell_type": "code",
      "execution_count": null,
      "metadata": {
        "id": "au6NmVpK2wfr"
      },
      "outputs": [],
      "source": [
        "SVM_regression = SVR(C=10, kernel='linear')\n",
        "SVM_regression.fit(X_train, y_train) # training the model."
      ]
    },
    {
      "cell_type": "code",
      "execution_count": null,
      "metadata": {
        "id": "a-bS7BY922sl"
      },
      "outputs": [],
      "source": [
        "y_pred = SVM_regression.predict(X_test) # Predicting values"
      ]
    },
    {
      "cell_type": "code",
      "execution_count": null,
      "metadata": {
        "id": "okIi_Mud23Kp"
      },
      "outputs": [],
      "source": [
        "predictions = pd.DataFrame({'y_test':y_test, 'y_pred':y_pred}) # Creating a dataframe with real values and predictions side by side\n",
        "# predictions.head()"
      ]
    },
    {
      "cell_type": "markdown",
      "metadata": {
        "id": "lA6Rh291243Y"
      },
      "source": [
        "**Evaluating the model**"
      ]
    },
    {
      "cell_type": "code",
      "execution_count": null,
      "metadata": {
        "id": "4_pvvWin26-V"
      },
      "outputs": [],
      "source": [
        "MSE_test = round(np.mean(np.square(y_test- y_pred)),2)\n",
        "RMSE_test = round(np.sqrt(MSE_test),2)\n",
        "print(RMSE_test, SVM_regression.score(X_test, y_test))"
      ]
    },
    {
      "cell_type": "markdown",
      "metadata": {
        "id": "CnTXtK0q4zt4"
      },
      "source": [
        "Results were: 1000 samples: 0.66\n",
        "17k 0.64\n",
        "Therefore with the increasing amount of samples, the mean squared error is decreasing"
      ]
    },
    {
      "cell_type": "markdown",
      "metadata": {
        "id": "wBQ7yPoJ4Jcu"
      },
      "source": [
        "# **Finding optimal model with Grid Search**"
      ]
    },
    {
      "cell_type": "code",
      "execution_count": null,
      "metadata": {
        "id": "QMlPaZhny53x"
      },
      "outputs": [],
      "source": [
        "param_grid = {'C': [1,10,100], 'gamma': [1,0.1,0.01], 'kernel': ['rbf', 'poly', 'sigmoid', 'linear'], 'degree' : [3,5,9]}"
      ]
    },
    {
      "cell_type": "code",
      "execution_count": null,
      "metadata": {
        "id": "H0IqF8M2zaEg"
      },
      "outputs": [],
      "source": [
        "grid = GridSearchCV(estimator=SVR(),param_grid= param_grid, refit = True, verbose=3, cv=2)"
      ]
    },
    {
      "cell_type": "code",
      "execution_count": null,
      "metadata": {
        "id": "FhPwIdb6zenr"
      },
      "outputs": [],
      "source": [
        "grid.fit(X_train,y_train)"
      ]
    },
    {
      "cell_type": "code",
      "execution_count": null,
      "metadata": {
        "colab": {
          "base_uri": "https://localhost:8080/"
        },
        "id": "sErb6nFYzkJ5",
        "outputId": "b5bdc0fa-0891-459f-acdf-fd5b221ba911"
      },
      "outputs": [
        {
          "output_type": "execute_result",
          "data": {
            "text/plain": [
              "{'C': 1, 'degree': 3, 'gamma': 0.1, 'kernel': 'rbf'}"
            ]
          },
          "metadata": {},
          "execution_count": 14
        }
      ],
      "source": [
        "grid.best_params_"
      ]
    },
    {
      "cell_type": "code",
      "source": [
        "grid.best_estimator_.score(X_train, y_train)"
      ],
      "metadata": {
        "id": "EWkWMEtTumGN"
      },
      "execution_count": null,
      "outputs": []
    },
    {
      "cell_type": "code",
      "execution_count": null,
      "metadata": {
        "id": "gmyu2mNEzogP"
      },
      "outputs": [],
      "source": [
        "y_pred_best = grid.predict(X_test)"
      ]
    },
    {
      "cell_type": "code",
      "execution_count": null,
      "metadata": {
        "id": "OuHI5od3zszR"
      },
      "outputs": [],
      "source": [
        "predictions['y_pred_best'] = y_pred_best # Adding best predictions to the dataframe of previous predictions\n",
        "predictions.head()"
      ]
    },
    {
      "cell_type": "markdown",
      "source": [
        "# **Optimal Model**"
      ],
      "metadata": {
        "id": "2DIWYTuazvTH"
      }
    },
    {
      "cell_type": "code",
      "source": [
        "optimal = SVR(C=1, gamma = 0.1, kernel = 'rbf')"
      ],
      "metadata": {
        "id": "9EQ-db-izu7h"
      },
      "execution_count": null,
      "outputs": []
    },
    {
      "cell_type": "code",
      "source": [
        "optimal.fit(X_train, y_train)"
      ],
      "metadata": {
        "id": "U7aDUiIPz5uu"
      },
      "execution_count": null,
      "outputs": []
    },
    {
      "cell_type": "code",
      "source": [
        "y_optimal = optimal.predict(X_test)"
      ],
      "metadata": {
        "id": "-Bql1yN10EQs"
      },
      "execution_count": null,
      "outputs": []
    },
    {
      "cell_type": "code",
      "source": [
        "MSE_opt = round(np.mean(np.square(y_test - y_optimal)),2)\n",
        "RMSE_opt = round(np.sqrt(MSE_opt),2)\n",
        "RMSE_opt"
      ],
      "metadata": {
        "id": "x4ol1uOI0JZk"
      },
      "execution_count": null,
      "outputs": []
    },
    {
      "cell_type": "code",
      "source": [
        "plt.plot(X_train['valence'], y_train, 'o')\n",
        "m, b = np.polyfit(X_train['valence'], y_train, 1)\n",
        "plt.plot(X_train['valence'], m*X_train['valence']+b)"
      ],
      "metadata": {
        "id": "4Gr3iy0Y4dxw"
      },
      "execution_count": null,
      "outputs": []
    },
    {
      "cell_type": "markdown",
      "source": [
        "# **Dimensionality Reduction via Feature Selection**\n"
      ],
      "metadata": {
        "id": "AC30sqAq6rU3"
      }
    },
    {
      "cell_type": "code",
      "source": [
        "y_pruned = df_sc['danceability']\n",
        "#df_sc_pruned = df_sc.drop('danceability', axis=1)\n",
        "#df_sc_pruned  = df_sc_pruned .drop('tempo', axis=1)\n",
        "#df_sc_pruned  = df_sc_pruned .drop('key', axis=1)\n",
        "X_pruned = df_sc.drop(['mode', 'key', 'tempo'], axis=1)"
      ],
      "metadata": {
        "id": "X5m7t7L97KwG"
      },
      "execution_count": null,
      "outputs": []
    },
    {
      "cell_type": "code",
      "source": [
        "X_train, X_test, y_train, y_test = train_test_split(X_pruned[:100000], y[:100000], test_size=0.4, random_state=random_state)"
      ],
      "metadata": {
        "id": "sgcdhdo06t7_"
      },
      "execution_count": null,
      "outputs": []
    },
    {
      "cell_type": "code",
      "source": [
        "X_train.shape"
      ],
      "metadata": {
        "id": "EN3prjaH6Pww"
      },
      "execution_count": null,
      "outputs": []
    },
    {
      "cell_type": "code",
      "source": [
        "optimal.fit(X_train, y_train)"
      ],
      "metadata": {
        "id": "GKc0nAfC7q_n"
      },
      "execution_count": null,
      "outputs": []
    },
    {
      "cell_type": "code",
      "source": [
        "y_optimal = optimal.predict(X_test)"
      ],
      "metadata": {
        "id": "KpDb3vVQ7xqc"
      },
      "execution_count": null,
      "outputs": []
    },
    {
      "cell_type": "code",
      "source": [
        "MSE_opt = round(np.mean(np.square(y_test - y_optimal)),2)\n",
        "RMSE_opt = round(np.sqrt(MSE_opt),2)\n",
        "RMSE_opt"
      ],
      "metadata": {
        "id": "SNKsJ3Xq7yat"
      },
      "execution_count": null,
      "outputs": []
    },
    {
      "cell_type": "code",
      "source": [
        "optimal.score(X_test, y_test)"
      ],
      "metadata": {
        "id": "C9w21I1KCNCi"
      },
      "execution_count": null,
      "outputs": []
    }
  ],
  "metadata": {
    "colab": {
      "provenance": []
    },
    "kernelspec": {
      "display_name": "Python 3",
      "name": "python3"
    },
    "language_info": {
      "name": "python"
    }
  },
  "nbformat": 4,
  "nbformat_minor": 0
}